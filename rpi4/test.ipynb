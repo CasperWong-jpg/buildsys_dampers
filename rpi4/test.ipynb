{
 "cells": [
  {
   "cell_type": "code",
   "execution_count": 1,
   "metadata": {},
   "outputs": [],
   "source": [
    "import numpy as np\n",
    "from scipy.optimize import curve_fit\n",
    "import datetime\n",
    "import time"
   ]
  },
  {
   "cell_type": "code",
   "execution_count": 2,
   "metadata": {},
   "outputs": [],
   "source": [
    "def base_function(t, tau, dead_band_upper):\n",
    "    return dead_band_upper*np.exp(-t/tau)\n",
    "\n",
    "def estimate_RC(temperature):\n",
    "    t = np.arange(len(temperature))\n",
    "    popt, pcov = curve_fit(base_function, t, np.array(temperature))\n",
    "    return popt[0]\n",
    "\n",
    "def is_occupied(occupancy):\n",
    "    return (occupancy != 0)\n",
    "\n",
    "def control_fn(curr_time, occupied, schedule, tau, current_temp, dead_band_upper, dead_band_lower):\n",
    "    if schedule[curr_time + tau] == 1:\n",
    "        signal = 1\n",
    "    elif current_temp < dead_band_lower:\n",
    "        signal = 1\n",
    "    elif occupied:\n",
    "        signal = 1\n",
    "    elif current_temp > dead_band_upper:\n",
    "        signal = 0\n",
    "    else:\n",
    "        signal = 0\n",
    "    return signal\n",
    "\n",
    "def convert_to_hour(time, sampling_frequency):\n",
    "    return time/(60*60*sampling_frequency)\n",
    "\n",
    "class RC_Controller:\n",
    "    def __init__(self, schedule):\n",
    "        self.setpoint = 21\n",
    "        self.dead_band_upper = 22\n",
    "        self.dead_band_lower = 20\n",
    "\n",
    "        self.current_temp = self.setpoint  # Assume temp at setpoint to start\n",
    "        self.occupancy = 0  # Assume no occupants to start\n",
    "\n",
    "        self.schedule = schedule\n",
    "        self.hist_temperature = []\n",
    "\n",
    "        self.sampling_frequency = 1/30\n",
    "        self.tau = 10 # Initial guess of the time constant = 10hr for the room\n",
    "\n",
    "        self.flag = 0\n",
    "\n",
    "    def get_tau(self):\n",
    "        tau = estimate_RC(self.hist_temperature)\n",
    "        return tau\n",
    "    \n",
    "    def update(self):\n",
    "\n",
    "        currentDateAndTime = datetime.datetime.now()\n",
    "        currentTime = currentDateAndTime.hour\n",
    "        currentDate = currentDateAndTime.date()\n",
    "        day, hour = (currentDate.isoweekday()-1), currentTime\n",
    "\n",
    "        curr_time = 24*day + hour\n",
    "        \n",
    "        if len(self.hist_temperature) > 60*(60*self.sampling_frequency): # the value of tau is only calculated and update if the hist_temperature recorded is more than an hour long\n",
    "            tau = self.get_tau()\n",
    "            tau = convert_to_hour(tau, self.sampling_frequency)\n",
    "            self.tau = tau\n",
    "\n",
    "        if self.current_temp >= self.dead_band_upper:\n",
    "            self.flag = 1\n",
    "        elif self.current_temp <= self.dead_band_lower:\n",
    "            self.flag = 0\n",
    "\n",
    "        if self.flag == 1:\n",
    "            self.hist_temperature.append(self.current_temp)\n",
    "        if self.flag == 0:\n",
    "            self.hist_temperature = []\n",
    "\n",
    "        occupied = is_occupied(self.occupancy)\n",
    "        control = control_fn(curr_time, occupied, self.schedule, self.tau, self.current_temp, self.dead_band_upper, self.dead_band_lower)\n",
    "\n",
    "        return control\n",
    "\n",
    "def recv_instr():\n",
    "    global controller \n",
    "    print(\"Waiting for client request..\")\n",
    "    while True:\n",
    "        clientConnection, clientAddress = server.accept()\n",
    "        print(\"Connected clinet :\" , clientAddress)\n",
    "        data = (clientConnection.recv(1024)).decode()\n",
    "        print(\"From Client :\" , data)\n",
    "        try:\n",
    "            endpoint, val = data.split()\n",
    "            print(endpoint)\n",
    "            if endpoint == '/temp':\n",
    "                controller.current_temp = float(val)\n",
    "                print(\"temp assigned\")\n",
    "            elif endpoint == '/ultrasonic':\n",
    "                controller.occupancy = int(val)\n",
    "                print(\"ultrasonic assigned\")\n",
    "            else:\n",
    "                print(\"Bad endpoint\")\n",
    "        except IndexError:\n",
    "            print(\"Bad data\")\n",
    "        clientConnection.close()\n",
    "\n",
    "\n",
    "# Function to convert angle to PWM duty cycle\n",
    "def angle_to_duty_cycle(angle):\n",
    "    duty_cycle = (angle / 90.0) * (PWM_duty_max - PWM_duty_min) + PWM_duty_min\n",
    "    return duty_cycle\n",
    "\n",
    "# Function to move the servo to a specified angle\n",
    "def move_to_angle(angle):\n",
    "    assert 0 <= angle <= 90\n",
    "\n",
    "    duty_cycle = angle_to_duty_cycle(angle)\n",
    "    pwm.ChangeDutyCycle(duty_cycle)\n",
    "    time.sleep(1)  # Adjust this delay as needed for your servo\n",
    "    # pwm.ChangeDutyCycle(0)  # Stop sending PWM signal\n"
   ]
  },
  {
   "cell_type": "code",
   "execution_count": 3,
   "metadata": {},
   "outputs": [],
   "source": [
    "schedule = [1,1,1,1,1,1,1,1,1,0,0,0,0,0,0,0,0,0,1,1,1,1,1,1,\n",
    "            1,1,1,1,1,1,1,1,1,1,0,0,0,0,0,0,0,0,1,1,1,1,1,1,\n",
    "            1,1,1,1,1,1,1,1,1,1,0,0,0,0,0,0,0,0,0,1,1,1,1,1,\n",
    "            1,1,1,1,1,1,1,1,1,1,0,0,0,0,0,0,0,0,1,1,1,1,1,1,\n",
    "            1,1,1,1,1,1,1,1,1,1,0,0,0,0,0,0,0,0,0,0,1,1,1,1,\n",
    "            1,1,1,1,1,1,1,1,1,0,0,0,0,0,0,0,0,0,0,0,0,0,0,0,\n",
    "            0,0,0,0,0,0,0,0,0,0,0,0,0,0,0,0,0,0,1,1,1,1,1,1]\n",
    "# Initialize controller as global between threads\n",
    "controller = RC_Controller(schedule)"
   ]
  },
  {
   "cell_type": "code",
   "execution_count": 4,
   "metadata": {},
   "outputs": [
    {
     "data": {
      "text/plain": [
       "1"
      ]
     },
     "execution_count": 4,
     "metadata": {},
     "output_type": "execute_result"
    }
   ],
   "source": [
    "controller.update()"
   ]
  },
  {
   "cell_type": "code",
   "execution_count": 8,
   "metadata": {},
   "outputs": [
    {
     "data": {
      "text/plain": [
       "(21, 10, 22, 20)"
      ]
     },
     "execution_count": 8,
     "metadata": {},
     "output_type": "execute_result"
    }
   ],
   "source": [
    "controller.current_temp, controller.tau, controller.dead_band_upper, controller.dead_band_lower"
   ]
  },
  {
   "cell_type": "code",
   "execution_count": null,
   "metadata": {},
   "outputs": [],
   "source": []
  }
 ],
 "metadata": {
  "kernelspec": {
   "display_name": "tfEnv",
   "language": "python",
   "name": "tfenv"
  },
  "language_info": {
   "codemirror_mode": {
    "name": "ipython",
    "version": 3
   },
   "file_extension": ".py",
   "mimetype": "text/x-python",
   "name": "python",
   "nbconvert_exporter": "python",
   "pygments_lexer": "ipython3",
   "version": "3.11.4"
  },
  "orig_nbformat": 4
 },
 "nbformat": 4,
 "nbformat_minor": 2
}
